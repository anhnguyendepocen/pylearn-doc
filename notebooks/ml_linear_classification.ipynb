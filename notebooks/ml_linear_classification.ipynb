{
 "cells": [
  {
   "cell_type": "markdown",
   "metadata": {},
   "source": [
    "# Linear classification"
   ]
  },
  {
   "cell_type": "markdown",
   "metadata": {},
   "source": [
    "## Linear discriminant analysis (LDA)\n",
    "\n",
    "Linear discriminant analysis (LDA) is a generalization of Fisher's linear discriminant, that find a linear combination of features that discriminate samples from two or more classes. The resulting combination may be used as a linear classifier, or, more commonly, for dimensionality reduction before later classification.\n",
    "\n",
    "### Fisher's linear discriminant with equal class covariances\n",
    "\n",
    "This geometric method do not make probabilistic assumption, it only relies on distances. It look for the linear projection (rotation) that maximizes between / within variances. It should be considered as a pedagogical experimental method. However with few assumptions it will provide the same results than LDA.\n",
    "Suppose t\\betao classes of observations have means $\\mu_0$, $\\mu_1$ with the same covariance $\\Sigma$. Then the linear combination of features $\\beta \\cdot x$ have means $\\beta \\cdot \\mu_i$ for i=0,1 and variance $\\beta^T \\Sigma \\beta$. Fisher defined the separation between these two distributions to be the ratio of the variance between the classes to the variance within the classes:\n",
    "\n",
    "$$\n",
    "    S=\\frac{\\sigma_{\\text{between}}^2}{\\sigma_{\\text{within}}^2}= \\frac{(\\beta \\cdot \\mu_1 - \\beta \\cdot \\mu_0)^2}{\\beta^T \\Sigma \\beta + \\beta^T \\Sigma \\beta} = \\frac{(\\beta \\cdot (\\mu_1 - \\mu_0))^2}{\\beta^T \\Sigma \\beta} \n",
    "$$\n",
    "\n",
    "It can be shown that the maximum separation occurs when\n",
    "\n",
    "$$\n",
    "    \\beta \\propto \\Sigma^{-1}(\\mu_1 - \\mu_0) \n",
    "$$\n",
    "The threshold can be chosen as the hyperplane between projections of the two means:\n",
    "$$\n",
    "T = \\beta \\cdot \\frac{1}{2}(\\mu_1 - \\mu_0)\n",
    "$$"
   ]
  },
  {
   "cell_type": "markdown",
   "metadata": {},
   "source": [
    "## Linear classification with Statsmodels"
   ]
  },
  {
   "cell_type": "markdown",
   "metadata": {},
   "source": [
    "## Linear classification with scikit-learn"
   ]
  }
 ],
 "metadata": {
  "kernelspec": {
   "display_name": "Python 3",
   "language": "python",
   "name": "python3"
  },
  "language_info": {
   "codemirror_mode": {
    "name": "ipython",
    "version": 3
   },
   "file_extension": ".py",
   "mimetype": "text/x-python",
   "name": "python",
   "nbconvert_exporter": "python",
   "pygments_lexer": "ipython3",
   "version": "3.5.1"
  }
 },
 "nbformat": 4,
 "nbformat_minor": 0
}

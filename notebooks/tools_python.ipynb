{
 "cells": [
  {
   "cell_type": "markdown",
   "metadata": {},
   "source": [
    "# Python language\n",
    "\n",
    "**Source** Kevin Markham https://github.com/justmarkham/python-reference"
   ]
  },
  {
   "cell_type": "markdown",
   "metadata": {},
   "source": [
    "## Set up your programming environment using Anaconda\n",
    "\n",
    "1. Download anaconda http://continuum.io/downloads\n",
    "\n",
    "2. Install it, on Linux:\n",
    "\n",
    "Python 2.7:\n",
    "\n",
    "```\n",
    "bash Anaconda2-2.4.0-Linux-x86_64.sh\n",
    "```\n",
    "Python 3:\n",
    "\n",
    "```\n",
    "bash Anaconda3-2.4.1-Linux-x86_64.sh\n",
    "```\n",
    "\n",
    "3. Add anaconda path in your PATH variable in your `.bashrc` file:\n",
    "\n",
    "Python 2.7:\n",
    "\n",
    "```\n",
    "export PATH=\"${HOME}/anaconda2/bin:$PATH\"\n",
    "```\n",
    "\n",
    "Python 3:\n",
    "\n",
    "```\n",
    "export PATH=\"${HOME}/anaconda3/bin:$PATH\"\n",
    "```\n",
    "\n",
    "\n",
    "4. Optional: install additionnal packages:\n",
    "\n",
    "Using `conda`:\n",
    "\n",
    "```\n",
    "conda install seaborn\n",
    "```\n",
    "\n",
    "Using `pip`:\n",
    "\n",
    "```\n",
    "pip install -U --user seaborn\n",
    "```\n",
    "\n",
    "Optional:\n",
    "```\n",
    "pip install -U --user nibabel\n",
    "pip install -U --user nilearn\n",
    "```\n",
    "\n",
    "5. Python editor `spyder`:\n",
    "    * Consoles/Open IPython consol.\n",
    "    * Left panel text editor \n",
    "    * Right panel ipython consol\n",
    "    * F9 run selection or curent line (in recent version of spyder)\n",
    "\n",
    "6. Python interpretor `python` or `ipython` same as python with many usefull features."
   ]
  },
  {
   "cell_type": "markdown",
   "metadata": {},
   "source": [
    "## Import libraries"
   ]
  },
  {
   "cell_type": "code",
   "execution_count": 6,
   "metadata": {
    "collapsed": false
   },
   "outputs": [],
   "source": [
    "# 'generic import' of math module\n",
    "import math\n",
    "math.sqrt(25)\n",
    "\n",
    "# import a function\n",
    "from math import sqrt\n",
    "sqrt(25)    # no longer have to reference the module\n",
    "\n",
    "# import multiple functions at once\n",
    "from math import cos, floor\n",
    "\n",
    "# import all functions in a module (generally discouraged)\n",
    "from os import *\n",
    "\n",
    "# define an alias\n",
    "import numpy as np\n",
    "\n",
    "# show all functions in math module\n",
    "content = dir(math)"
   ]
  },
  {
   "cell_type": "markdown",
   "metadata": {},
   "source": [
    "## Data types"
   ]
  },
  {
   "cell_type": "code",
   "execution_count": 2,
   "metadata": {
    "collapsed": false
   },
   "outputs": [
    {
     "data": {
      "text/plain": [
       "True"
      ]
     },
     "execution_count": 2,
     "metadata": {},
     "output_type": "execute_result"
    }
   ],
   "source": [
    "# determine the type of an object\n",
    "type(2)         # returns 'int'\n",
    "type(2.0)       # returns 'float'\n",
    "type('two')     # returns 'str'\n",
    "type(True)      # returns 'bool'\n",
    "type(None)      # returns 'NoneType'\n",
    "\n",
    "# check if an object is of a given type\n",
    "isinstance(2.0, int)            # returns False\n",
    "isinstance(2.0, (int, float))   # returns True\n",
    "\n",
    "# convert an object to a given type\n",
    "float(2)\n",
    "int(2.9)\n",
    "str(2.9)\n",
    "\n",
    "# zero, None, and empty containers are converted to False\n",
    "bool(0)\n",
    "bool(None)\n",
    "bool('')    # empty string\n",
    "bool([])    # empty list\n",
    "bool({})    # empty dictionary\n",
    "\n",
    "# non-empty containers and non-zeros are converted to True\n",
    "bool(2)\n",
    "bool('two')\n",
    "bool([2])"
   ]
  },
  {
   "cell_type": "markdown",
   "metadata": {},
   "source": [
    "## Math"
   ]
  },
  {
   "cell_type": "code",
   "execution_count": 3,
   "metadata": {
    "collapsed": false
   },
   "outputs": [
    {
     "data": {
      "text/plain": [
       "2"
      ]
     },
     "execution_count": 3,
     "metadata": {},
     "output_type": "execute_result"
    }
   ],
   "source": [
    "# basic operations\n",
    "10 + 4          # add (returns 14)\n",
    "10 - 4          # subtract (returns 6)\n",
    "10 * 4          # multiply (returns 40)\n",
    "10 ** 4         # exponent (returns 10000)\n",
    "10 / 4          # divide (returns 2 because both types are 'int')\n",
    "10 / float(4)   # divide (returns 2.5)\n",
    "5 % 4           # modulo (returns 1) - also known as the remainder\n",
    "\n",
    "# force '/' in Python 2.x to perform 'true division' (unnecessary in Python 3.x)\n",
    "from __future__ import division\n",
    "10 / 4          # true division (returns 2.5)\n",
    "10 // 4         # floor division (returns 2)"
   ]
  },
  {
   "cell_type": "markdown",
   "metadata": {},
   "source": [
    "## Comparisons and boolean operations"
   ]
  },
  {
   "cell_type": "code",
   "execution_count": 4,
   "metadata": {
    "collapsed": false
   },
   "outputs": [
    {
     "data": {
      "text/plain": [
       "True"
      ]
     },
     "execution_count": 4,
     "metadata": {},
     "output_type": "execute_result"
    }
   ],
   "source": [
    "# comparisons (these return True)\n",
    "5 > 3\n",
    "5 >= 3\n",
    "5 != 3\n",
    "5 == 5\n",
    "\n",
    "# boolean operations (these return True)\n",
    "5 > 3 and 6 > 3\n",
    "5 > 3 or 5 < 3\n",
    "not False\n",
    "False or not False and True     # evaluation order: not, and, or"
   ]
  },
  {
   "cell_type": "markdown",
   "metadata": {},
   "source": [
    "## Conditional statements"
   ]
  },
  {
   "cell_type": "code",
   "execution_count": 8,
   "metadata": {
    "collapsed": false
   },
   "outputs": [
    {
     "name": "stdout",
     "output_type": "stream",
     "text": [
      "positive\n",
      "positive\n",
      "positive\n",
      "positive\n"
     ]
    },
    {
     "data": {
      "text/plain": [
       "'positive'"
      ]
     },
     "execution_count": 8,
     "metadata": {},
     "output_type": "execute_result"
    }
   ],
   "source": [
    "x = 3\n",
    "# if statement\n",
    "if x > 0:\n",
    "    print('positive')\n",
    "\n",
    "# if/else statement\n",
    "if x > 0:\n",
    "    print('positive')\n",
    "else:\n",
    "    print('zero or negative')\n",
    "\n",
    "# if/elif/else statement\n",
    "if x > 0:\n",
    "    print('positive')\n",
    "elif x == 0:\n",
    "    print('zero')\n",
    "else:\n",
    "    print('negative')\n",
    "\n",
    "# single-line if statement (sometimes discouraged)\n",
    "if x > 0: print('positive')\n",
    "\n",
    "# single-line if/else statement (sometimes discouraged)\n",
    "# known as a 'ternary operator'\n",
    "'positive' if x > 0 else 'zero or negative'"
   ]
  },
  {
   "cell_type": "markdown",
   "metadata": {},
   "source": [
    "## Lists"
   ]
  },
  {
   "cell_type": "code",
   "execution_count": 11,
   "metadata": {
    "collapsed": false
   },
   "outputs": [
    {
     "data": {
      "text/plain": [
       "['a', 'a', 'b', 'b', 'b']"
      ]
     },
     "execution_count": 11,
     "metadata": {},
     "output_type": "execute_result"
    }
   ],
   "source": [
    "## properties: ordered, iterable, mutable, can contain multiple data types\n",
    "\n",
    "# create an empty list (two ways)\n",
    "empty_list = []\n",
    "empty_list = list()\n",
    "\n",
    "# create a list\n",
    "simpsons = ['homer', 'marge', 'bart']\n",
    "\n",
    "# examine a list\n",
    "simpsons[0]     # print element 0 ('homer')\n",
    "len(simpsons)   # returns the length (3)\n",
    "\n",
    "# modify a list (does not return the list)\n",
    "simpsons.append('lisa')                 # append element to end\n",
    "simpsons.extend(['itchy', 'scratchy'])  # append multiple elements to end\n",
    "simpsons.insert(0, 'maggie')            # insert element at index 0 (shifts everything right)\n",
    "simpsons.remove('bart')                 # searches for first instance and removes it\n",
    "simpsons.pop(0)                         # removes element 0 and returns it\n",
    "del simpsons[0]                         # removes element 0 (does not return it)\n",
    "simpsons[0] = 'krusty'                  # replace element 0\n",
    "\n",
    "# concatenate lists (slower than 'extend' method)\n",
    "neighbors = simpsons + ['ned','rod','todd']\n",
    "\n",
    "# find elements in a list\n",
    "simpsons.count('lisa')      # counts the number of instances\n",
    "simpsons.index('itchy')     # returns index of first instance\n",
    "\n",
    "# list slicing [start:end:stride]\n",
    "weekdays = ['mon','tues','wed','thurs','fri']\n",
    "weekdays[0]         # element 0\n",
    "weekdays[0:3]       # elements 0, 1, 2\n",
    "weekdays[:3]        # elements 0, 1, 2\n",
    "weekdays[3:]        # elements 3, 4\n",
    "weekdays[-1]        # last element (element 4)\n",
    "weekdays[::2]       # every 2nd element (0, 2, 4)\n",
    "weekdays[::-1]      # backwards (4, 3, 2, 1, 0)\n",
    "\n",
    "# alternative method for returning the list backwards\n",
    "list(reversed(weekdays))\n",
    "\n",
    "# sort a list in place (modifies but does not return the list)\n",
    "simpsons.sort()\n",
    "simpsons.sort(reverse=True)     # sort in reverse\n",
    "simpsons.sort(key=len)          # sort by a key\n",
    "\n",
    "# return a sorted list (but does not modify the original list)\n",
    "sorted(simpsons)\n",
    "sorted(simpsons, reverse=True)\n",
    "sorted(simpsons, key=len)\n",
    "\n",
    "# create a second reference to the same list\n",
    "num = [1, 2, 3]\n",
    "same_num = num\n",
    "same_num[0] = 0         # modifies both 'num' and 'same_num'\n",
    "\n",
    "# copy a list (three ways)\n",
    "new_num = num.copy()\n",
    "new_num = num[:]\n",
    "new_num = list(num)\n",
    "\n",
    "# examine objects\n",
    "id(num) == id(same_num) # returns True\n",
    "id(num) == id(new_num)  # returns False\n",
    "num is same_num         # returns True\n",
    "num is new_num          # returns False\n",
    "num == same_num         # returns True\n",
    "num == new_num          # returns True (their contents are equivalent)\n",
    "\n",
    "# conatenate +, replicate *\n",
    "[1, 2, 3] + [4, 5, 6]\n",
    "[\"a\"] * 2 + [\"b\"] * 3"
   ]
  },
  {
   "cell_type": "markdown",
   "metadata": {},
   "source": [
    "## Tuples\n",
    "\n",
    "Like lists, but they don't change size properties: ordered, iterable, immutable, can contain multiple data types"
   ]
  },
  {
   "cell_type": "code",
   "execution_count": 12,
   "metadata": {
    "collapsed": false
   },
   "outputs": [],
   "source": [
    "# create a tuple\n",
    "digits = (0, 1, 'two')          # create a tuple directly\n",
    "digits = tuple([0, 1, 'two'])   # create a tuple from a list\n",
    "zero = (0,)                     # trailing comma is required to indicate it's a tuple\n",
    "\n",
    "# examine a tuple\n",
    "digits[2]           # returns 'two'\n",
    "len(digits)         # returns 3\n",
    "digits.count(0)     # counts the number of instances of that value (1)\n",
    "digits.index(1)     # returns the index of the first instance of that value (1)\n",
    "\n",
    "# elements of a tuple cannot be modified\n",
    "# digits[2] = 2       # throws an error\n",
    "\n",
    "# concatenate tuples\n",
    "digits = digits + (3, 4)\n",
    "\n",
    "# create a single tuple with elements repeated (also works with lists)\n",
    "(3, 4) * 2          # returns (3, 4, 3, 4)\n",
    "\n",
    "# tuple unpacking\n",
    "bart = ('male', 10, 'simpson')  # create a tuple"
   ]
  },
  {
   "cell_type": "markdown",
   "metadata": {},
   "source": [
    "## Strings\n",
    "\n",
    "Properties: iterable, immutable"
   ]
  },
  {
   "cell_type": "code",
   "execution_count": 13,
   "metadata": {
    "collapsed": false
   },
   "outputs": [
    {
     "name": "stdout",
     "output_type": "stream",
     "text": [
      "first line\n",
      "second line\n",
      "first line\\nfirst line\n"
     ]
    }
   ],
   "source": [
    "from __future__ import print_function\n",
    "# create a string\n",
    "s = str(42)         # convert another data type into a string\n",
    "s = 'I like you'\n",
    "\n",
    "# examine a string\n",
    "s[0]                # returns 'I'\n",
    "len(s)              # returns 10\n",
    "\n",
    "# string slicing like lists\n",
    "s[:6]               # returns 'I like'\n",
    "s[7:]               # returns 'you'\n",
    "s[-1]               # returns 'u'\n",
    "\n",
    "# basic string methods (does not modify the original string)\n",
    "s.lower()           # returns 'i like you'\n",
    "s.upper()           # returns 'I LIKE YOU'\n",
    "s.startswith('I')   # returns True\n",
    "s.endswith('you')   # returns True\n",
    "s.isdigit()         # returns False (returns True if every character in the string is a digit)\n",
    "s.find('like')      # returns index of first occurrence (2), but doesn't support regex\n",
    "s.find('hate')      # returns -1 since not found\n",
    "s.replace('like','love')    # replaces all instances of 'like' with 'love'\n",
    "\n",
    "# split a string into a list of substrings separated by a delimiter\n",
    "s.split(' ')        # returns ['I','like','you']\n",
    "s.split()           # same thing\n",
    "s2 = 'a, an, the'\n",
    "s2.split(',')       # returns ['a',' an',' the']\n",
    "\n",
    "# join a list of strings into one string using a delimiter\n",
    "stooges = ['larry','curly','moe']\n",
    "' '.join(stooges)   # returns 'larry curly moe'\n",
    "\n",
    "# concatenate strings\n",
    "s3 = 'The meaning of life is'\n",
    "s4 = '42'\n",
    "s3 + ' ' + s4       # returns 'The meaning of life is 42'\n",
    "s3 + ' ' + str(42)  # same thing\n",
    "\n",
    "# remove whitespace from start and end of a string\n",
    "s5 = '  ham and cheese  '\n",
    "s5.strip()          # returns 'ham and cheese'\n",
    "\n",
    "# string substitutions: all of these return 'raining cats and dogs'\n",
    "'raining %s and %s' % ('cats','dogs')                       # old way\n",
    "'raining {} and {}'.format('cats','dogs')                   # new way\n",
    "'raining {arg1} and {arg2}'.format(arg1='cats',arg2='dogs') # named arguments\n",
    "\n",
    "# string formatting\n",
    "# more examples: http://mkaz.com/2012/10/10/python-string-format/\n",
    "'pi is {:.2f}'.format(3.14159)      # returns 'pi is 3.14'\n",
    "\n",
    "# normal strings versus raw strings\n",
    "print('first line\\nsecond line')     # normal strings allow for escaped characters\n",
    "print(r'first line\\nfirst line')     # raw strings treat backslashes as literal characters"
   ]
  },
  {
   "cell_type": "markdown",
   "metadata": {},
   "source": [
    "## Dictionaries\n",
    "\n",
    "Properties: unordered, iterable, mutable, can contain multiple data types made up of key-value pairs keys must be unique, and can be strings, numbers, or tuples values can be any type"
   ]
  },
  {
   "cell_type": "code",
   "execution_count": 15,
   "metadata": {
    "collapsed": false
   },
   "outputs": [
    {
     "name": "stdout",
     "output_type": "stream",
     "text": [
      "Error 'grandma'\n"
     ]
    },
    {
     "data": {
      "text/plain": [
       "'youngest child is maggie'"
      ]
     },
     "execution_count": 15,
     "metadata": {},
     "output_type": "execute_result"
    }
   ],
   "source": [
    "# create an empty dictionary (two ways)\n",
    "empty_dict = {}\n",
    "empty_dict = dict()\n",
    "\n",
    "# create a dictionary (two ways)\n",
    "family = {'dad':'homer', 'mom':'marge', 'size':6}\n",
    "family = dict(dad='homer', mom='marge', size=6)\n",
    "\n",
    "# convert a list of tuples into a dictionary\n",
    "list_of_tuples = [('dad','homer'), ('mom','marge'), ('size', 6)]\n",
    "family = dict(list_of_tuples)\n",
    "\n",
    "# examine a dictionary\n",
    "family['dad']       # returns 'homer'\n",
    "len(family)         # returns 3\n",
    "family.keys()       # returns list: ['dad', 'mom', 'size']\n",
    "family.values()     # returns list: ['homer', 'marge', 6]\n",
    "family.items()      # returns list of tuples:\n",
    "                    #   [('dad', 'homer'), ('mom', 'marge'), ('size', 6)]\n",
    "'mom' in family     # returns True\n",
    "'marge' in family   # returns False (only checks keys)\n",
    "\n",
    "# modify a dictionary (does not return the dictionary)\n",
    "family['cat'] = 'snowball'              # add a new entry\n",
    "family['cat'] = 'snowball ii'           # edit an existing entry\n",
    "del family['cat']                       # delete an entry\n",
    "family['kids'] = ['bart', 'lisa']       # value can be a list\n",
    "family.pop('dad')                       # removes an entry and returns the value ('homer')\n",
    "family.update({'baby':'maggie', 'grandpa':'abe'})   # add multiple entries\n",
    "\n",
    "# accessing values more safely with 'get'\n",
    "family['mom']                       # returns 'marge'\n",
    "family.get('mom')                   # same thing\n",
    "try:\n",
    "    family['grandma']               # throws an error\n",
    "except  KeyError as e:\n",
    "    print(\"Error\", e)\n",
    "\n",
    "family.get('grandma')               # returns None\n",
    "family.get('grandma', 'not found')  # returns 'not found' (the default)\n",
    "\n",
    "# accessing a list element within a dictionary\n",
    "family['kids'][0]                   # returns 'bart'\n",
    "family['kids'].remove('lisa')       # removes 'lisa'\n",
    "\n",
    "# string substitution using a dictionary\n",
    "'youngest child is %(baby)s' % family   # returns 'youngest child is maggie'"
   ]
  },
  {
   "cell_type": "markdown",
   "metadata": {},
   "source": [
    "## Sets\n",
    "\n",
    "Like dictionaries, but with keys only (no values) properties: unordered, iterable, mutable, can contain multiple data types made up of unique elements (strings, numbers, or tuples)"
   ]
  },
  {
   "cell_type": "code",
   "execution_count": 16,
   "metadata": {
    "collapsed": false
   },
   "outputs": [
    {
     "name": "stdout",
     "output_type": "stream",
     "text": [
      "Error 'c'\n"
     ]
    },
    {
     "data": {
      "text/plain": [
       "[0, 1, 2, 9]"
      ]
     },
     "execution_count": 16,
     "metadata": {},
     "output_type": "execute_result"
    }
   ],
   "source": [
    "# create an empty set\n",
    "empty_set = set()\n",
    "\n",
    "# create a set\n",
    "languages = {'python', 'r', 'java'}         # create a set directly\n",
    "snakes = set(['cobra', 'viper', 'python'])  # create a set from a list\n",
    "\n",
    "# examine a set\n",
    "len(languages)              # returns 3\n",
    "'python' in languages       # returns True\n",
    "\n",
    "# set operations\n",
    "languages & snakes          # returns intersection: {'python'}\n",
    "languages | snakes          # returns union: {'cobra', 'r', 'java', 'viper', 'python'}\n",
    "languages - snakes          # returns set difference: {'r', 'java'}\n",
    "snakes - languages          # returns set difference: {'cobra', 'viper'}\n",
    "\n",
    "# modify a set (does not return the set)\n",
    "languages.add('sql')        # add a new element\n",
    "languages.add('r')          # try to add an existing element (ignored, no error)\n",
    "languages.remove('java')    # remove an element\n",
    "try:\n",
    "    languages.remove('c')       # try to remove a non-existing element (throws an error)\n",
    "except  KeyError as e:\n",
    "    print(\"Error\", e)\n",
    "languages.discard('c')      # removes an element if present, but ignored otherwise\n",
    "languages.pop()             # removes and returns an arbitrary element\n",
    "languages.clear()           # removes all elements\n",
    "languages.update('go', 'spark') # add multiple elements (can also pass a list or set)\n",
    "\n",
    "# get a sorted list of unique elements from a list\n",
    "sorted(set([9, 0, 2, 1, 0]))    # returns [0, 1, 2, 9]"
   ]
  },
  {
   "cell_type": "markdown",
   "metadata": {},
   "source": [
    "## Functions"
   ]
  },
  {
   "cell_type": "code",
   "execution_count": 17,
   "metadata": {
    "collapsed": false
   },
   "outputs": [
    {
     "name": "stdout",
     "output_type": "stream",
     "text": [
      "this is text\n",
      "3\n",
      "3\n"
     ]
    }
   ],
   "source": [
    "# define a function with no arguments and no return values\n",
    "def print_text():\n",
    "    print('this is text')\n",
    "\n",
    "# call the function\n",
    "print_text()\n",
    "\n",
    "# define a function with one argument and no return values\n",
    "def print_this(x):\n",
    "    print(x)\n",
    "\n",
    "# call the function\n",
    "print_this(3)       # prints 3\n",
    "n = print_this(3)   # prints 3, but doesn't assign 3 to n\n",
    "                    #   because the function has no return statement\n",
    "\n",
    "# define a function with one argument and one return value\n",
    "def square_this(x):\n",
    "    return x ** 2\n",
    "\n",
    "# include an optional docstring to describe the effect of a function\n",
    "def square_this(x):\n",
    "    \"\"\"Return the square of a number.\"\"\"\n",
    "    return x ** 2\n",
    "\n",
    "# call the function\n",
    "square_this(3)          # prints 9\n",
    "var = square_this(3)    # assigns 9 to var, but does not print 9\n",
    "\n",
    "# default arguments\n",
    "def power_this(x, power=2):\n",
    "    return x ** power\n",
    "\n",
    "power_this(2)    # 4\n",
    "power_this(2, 3) # 8\n",
    "\n",
    "# use 'pass' as a placeholder if you haven't written the function body\n",
    "def stub():\n",
    "    pass\n",
    "\n",
    "# return two values from a single function\n",
    "def min_max(nums):\n",
    "    return min(nums), max(nums)\n",
    "\n",
    "# return values can be assigned to a single variable as a tuple\n",
    "nums = [1, 2, 3]\n",
    "min_max_num = min_max(nums)         # min_max_num = (1, 3)\n",
    "\n",
    "# return values can be assigned into multiple variables using tuple unpacking\n",
    "min_num, max_num = min_max(nums)    # min_num = 1, max_num = 3"
   ]
  },
  {
   "cell_type": "markdown",
   "metadata": {},
   "source": [
    "## Loops"
   ]
  },
  {
   "cell_type": "code",
   "execution_count": 22,
   "metadata": {
    "collapsed": false
   },
   "outputs": [
    {
     "name": "stdout",
     "output_type": "stream",
     "text": [
      "APPLE\n",
      "BANANA\n",
      "CHERRY\n",
      "APPLE\n",
      "BANANA\n",
      "CHERRY\n",
      "mom marge\n",
      "dad homer\n",
      "size 6\n",
      "0 apple\n",
      "1 banana\n",
      "2 cherry\n",
      "Found the banana!\n",
      "This will print 5 times\n",
      "This will print 5 times\n",
      "This will print 5 times\n",
      "This will print 5 times\n",
      "This will print 5 times\n"
     ]
    }
   ],
   "source": [
    "# range returns a list of integers\n",
    "range(0, 3)     # returns [0, 1, 2]: includes first value but excludes second value\n",
    "range(3)        # same thing: starting at zero is the default\n",
    "range(0, 5, 2)  # returns [0, 2, 4]: third argument specifies the 'stride'\n",
    "\n",
    "# for loop (not recommended)\n",
    "fruits = ['apple', 'banana', 'cherry']\n",
    "for i in range(len(fruits)):\n",
    "    print(fruits[i].upper())\n",
    "\n",
    "# alternative for loop (recommended style)\n",
    "for fruit in fruits:\n",
    "    print(fruit.upper())\n",
    "\n",
    "# use range when iterating over a large sequence to avoid actually creating the integer list in memory\n",
    "for i in range(10**6):\n",
    "    pass\n",
    "\n",
    "# iterate through two things at once (using tuple unpacking)\n",
    "family = {'dad':'homer', 'mom':'marge', 'size':6}\n",
    "for key, value in family.items():\n",
    "    print(key, value)\n",
    "\n",
    "# use enumerate if you need to access the index value within the loop\n",
    "for index, fruit in enumerate(fruits):\n",
    "    print(index, fruit)\n",
    "\n",
    "# for/else loop\n",
    "for fruit in fruits:\n",
    "    if fruit == 'banana':\n",
    "        print(\"Found the banana!\")\n",
    "        break   # exit the loop and skip the 'else' block\n",
    "else:\n",
    "    # this block executes ONLY if the for loop completes without hitting 'break'\n",
    "    print(\"Can't find the banana\")\n",
    "\n",
    "# while loop\n",
    "count = 0\n",
    "while count < 5:\n",
    "    print(\"This will print 5 times\")\n",
    "    count += 1      # equivalent to 'count = count + 1'"
   ]
  },
  {
   "cell_type": "markdown",
   "metadata": {},
   "source": [
    "## List comprehensions"
   ]
  },
  {
   "cell_type": "code",
   "execution_count": 23,
   "metadata": {
    "collapsed": true
   },
   "outputs": [],
   "source": [
    "# for loop to create a list of cubes\n",
    "nums = [1, 2, 3, 4, 5]\n",
    "cubes = []\n",
    "for num in nums:\n",
    "    cubes.append(num**3)\n",
    "\n",
    "# equivalent list comprehension\n",
    "cubes = [num**3 for num in nums]    # [1, 8, 27, 64, 125]\n",
    "\n",
    "# for loop to create a list of cubes of even numbers\n",
    "cubes_of_even = []\n",
    "for num in nums:\n",
    "    if num % 2 == 0:\n",
    "        cubes_of_even.append(num**3)\n",
    "\n",
    "# equivalent list comprehension\n",
    "# syntax: [expression for variable in iterable if condition]\n",
    "cubes_of_even = [num**3 for num in nums if num % 2 == 0]    # [8, 64]\n",
    "\n",
    "# for loop to cube even numbers and square odd numbers\n",
    "cubes_and_squares = []\n",
    "for num in nums:\n",
    "    if num % 2 == 0:\n",
    "        cubes_and_squares.append(num**3)\n",
    "    else:\n",
    "        cubes_and_squares.append(num**2)\n",
    "\n",
    "# equivalent list comprehension (using a ternary expression)\n",
    "# syntax: [true_condition if condition else false_condition for variable in iterable]\n",
    "cubes_and_squares = [num**3 if num % 2 == 0 else num**2 for num in nums]    # [1, 8, 9, 64, 25]\n",
    "\n",
    "# for loop to flatten a 2d-matrix\n",
    "matrix = [[1, 2], [3, 4]]\n",
    "items = []\n",
    "for row in matrix:\n",
    "    for item in row:\n",
    "        items.append(item)\n",
    "\n",
    "# equivalent list comprehension\n",
    "items = [item for row in matrix\n",
    "              for item in row]      # [1, 2, 3, 4]\n",
    "\n",
    "# set comprehension\n",
    "fruits = ['apple', 'banana', 'cherry']\n",
    "unique_lengths = {len(fruit) for fruit in fruits}   # {5, 6}\n",
    "\n",
    "# dictionary comprehension\n",
    "fruit_lengths = {fruit:len(fruit) for fruit in fruits}              # {'apple': 5, 'banana': 6, 'cherry': 6}"
   ]
  },
  {
   "cell_type": "markdown",
   "metadata": {},
   "source": [
    "## Exceptions handling"
   ]
  },
  {
   "cell_type": "code",
   "execution_count": 24,
   "metadata": {
    "collapsed": false
   },
   "outputs": [
    {
     "name": "stdout",
     "output_type": "stream",
     "text": [
      "Key c is missing. Add it with empty value\n",
      "{'c': [], 'b': [4, 5], 'a': [1, 2]}\n"
     ]
    }
   ],
   "source": [
    "dct = dict(a=[1, 2], b=[4, 5])\n",
    "\n",
    "key = 'c'\n",
    "try:\n",
    "    dct[key]\n",
    "except:\n",
    "    print(\"Key %s is missing. Add it with empty value\" % key)\n",
    "    dct['c'] = []\n",
    "\n",
    "print(dct)"
   ]
  },
  {
   "cell_type": "markdown",
   "metadata": {},
   "source": [
    "## Basic operating system interfaces (os)"
   ]
  },
  {
   "cell_type": "code",
   "execution_count": 3,
   "metadata": {
    "collapsed": false
   },
   "outputs": [
    {
     "name": "stdout",
     "output_type": "stream",
     "text": [
      "Working dir: /tmp\n",
      "/tmp/foobar/myfile.txt\n"
     ]
    }
   ],
   "source": [
    "import os\n",
    "import tempfile\n",
    "\n",
    "tmpdir = tempfile.gettempdir()\n",
    "\n",
    "# list containing the names of the entries in the directory given by path.\n",
    "os.listdir(tmpdir)\n",
    "\n",
    "# Change the current working directory to path.\n",
    "os.chdir(tmpdir)\n",
    "\n",
    "# Get current working directory.\n",
    "print('Working dir:', os.getcwd())\n",
    "\n",
    "# Join paths\n",
    "mytmpdir = os.path.join(tmpdir, \"foobar\")\n",
    "\n",
    "# Create a directory\n",
    "if not os.path.exists(mytmpdir):\n",
    "    os.mkdir(mytmpdir)\n",
    "\n",
    "filename = os.path.join(mytmpdir, \"myfile.txt\")\n",
    "print(filename)\n",
    "\n",
    "# Write\n",
    "lines = [\"Dans python tout est bon\", \"Enfin, presque\"]\n",
    "\n",
    "## write line by line\n",
    "fd = open(filename, \"w\")\n",
    "fd.write(lines[0] + \"\\n\")\n",
    "fd.write(lines[1]+ \"\\n\")\n",
    "fd.close()\n",
    "\n",
    "## use a context manager to automatically close your file\n",
    "with open(filename, 'w') as f:\n",
    "    for line in lines:\n",
    "        f.write(line + '\\n')\n",
    "\n",
    "# Read\n",
    "## read one line at a time (entire file does not have to fit into memory)\n",
    "f = open(filename, \"r\")\n",
    "f.readline()    # one string per line (including newlines)\n",
    "f.readline()    # next line\n",
    "f.close()\n",
    "\n",
    "## read one line at a time (entire file does not have to fit into memory)\n",
    "f = open(filename, 'r')\n",
    "f.readline()    # one string per line (including newlines)\n",
    "f.readline()    # next line\n",
    "f.close()\n",
    "\n",
    "## read the whole file at once, return a list of lines\n",
    "f = open(filename, 'r')\n",
    "f.readlines()   # one list, each line is one string\n",
    "f.close()\n",
    "\n",
    "## use list comprehension to duplicate readlines without reading entire file at once\n",
    "f = open(filename, 'r')\n",
    "[line for line in f]\n",
    "f.close()\n",
    "\n",
    "## use a context manager to automatically close your file\n",
    "with open(filename, 'r') as f:\n",
    "    lines = [line for line in f]"
   ]
  },
  {
   "cell_type": "markdown",
   "metadata": {},
   "source": [
    "## Object Oriented Programing (OOP)\n",
    "\n",
    "**Sources**\n",
    "\n",
    "- http://python-textbok.readthedocs.org/en/latest/Object_Oriented_Programming.html\n",
    "\n",
    "**Principles**\n",
    "\n",
    "- **Encapsulate** data (attributes) and code (methods) into objects.\n",
    "\n",
    "- **Class** = template or blueprint that can be used to create objects.\n",
    "\n",
    "- An **object** is a specific instance of a class.\n",
    "\n",
    "- **Inheritance**: OOP allows classes to inherit commonly used state and behaviour from other classes. Reduce code duplication\n",
    "\n",
    "- **Polymorphism**: (usually obtained through polymorphism) calling code is agnostic as to whether an object belongs to a parent class or one of its descendants (abstraction, modularity). The same method called on 2 objects of 2 different classes will behave differently."
   ]
  },
  {
   "cell_type": "code",
   "execution_count": 4,
   "metadata": {
    "collapsed": false
   },
   "outputs": [
    {
     "name": "stdout",
     "output_type": "stream",
     "text": [
      "[4, 28.274333882308138]\n",
      "NotImplementedError\n"
     ]
    }
   ],
   "source": [
    "import math\n",
    "\n",
    "class Shape2D:\n",
    "    def area(self):\n",
    "        raise NotImplementedError()\n",
    "\n",
    "# __init__ is a special method called the constructor\n",
    "\n",
    "# Inheritance + Encapsulation\n",
    "class Square(Shape2D):\n",
    "    def __init__(self, width):\n",
    "        self.width = width\n",
    "\n",
    "    def area(self):\n",
    "        return self.width ** 2\n",
    "\n",
    "class Disk(Shape2D):\n",
    "    def __init__(self, radius):\n",
    "        self.radius = radius\n",
    "\n",
    "    def area(self):\n",
    "        return math.pi * self.radius ** 2\n",
    "\n",
    "shapes = [Square(2), Disk(3)]\n",
    "\n",
    "# Polymorphism\n",
    "print([s.area() for s in shapes])\n",
    "\n",
    "s = Shape2D()\n",
    "try:\n",
    "    s.area()\n",
    "except NotImplementedError as e:\n",
    "    print(\"NotImplementedError\")"
   ]
  },
  {
   "cell_type": "markdown",
   "metadata": {},
   "source": [
    "## Exercises"
   ]
  },
  {
   "cell_type": "markdown",
   "metadata": {},
   "source": [
    "### Exercise 1: functions\n",
    "\n",
    "Create a function that acts as a simple calulator\n",
    "If the operation is not specified, default to addition\n",
    "If the operation is misspecified, return an prompt message\n",
    "Ex: `calc(4,5,\"multiply\")` returns 20\n",
    "Ex: `calc(3,5)` returns 8\n",
    "Ex: `calc(1, 2, \"something\")` returns error message"
   ]
  },
  {
   "cell_type": "markdown",
   "metadata": {},
   "source": [
    "### Exercise 2: functions + list + loop\n",
    "\n",
    "Given a list of numbers, return a list where\n",
    "all adjacent duplicate elements have been reduced to a single element.\n",
    "Ex: `[1, 2, 2, 3, 2]` returns `[1, 2, 3, 2]`. \n",
    "You may create a new list or modify the passed in list.\n",
    "\n",
    "Remove all duplicate values (adjacent or not)\n",
    "Ex: `[1, 2, 2, 3, 2]` returns `[1, 2, 3]`"
   ]
  },
  {
   "cell_type": "markdown",
   "metadata": {},
   "source": [
    "### Exercie 3: File I/O\n",
    "\n",
    "Copy/past the bsd 4 clause license into a text file. Read, the file \n",
    "(assuming this file could be huge) and cound the occurences of each word\n",
    "within the file. Words are separated by whitespace or new line characters."
   ]
  },
  {
   "cell_type": "markdown",
   "metadata": {},
   "source": [
    "### Exercise 4: OOP\n",
    "\n",
    "1. Create a class `Employee` with 2 attributes provided in the constructor: `name`, `years_of_service`. With one method `salary` with is obtained by `1500 + 100 * years_of_service`.\n",
    "\n",
    "2. Create a subclass `Manager` which redefine `salary` method  `2500 + 120 * years_of_service`.\n",
    "\n",
    "3. Create a small dictionnary-nased database where the key is the employee's name. Populate the database with:\n",
    "samples = Employee('lucy', 3), Employee('john', 1), Manager('julie', 10),  Manager('paul', 3)\n",
    "\n",
    "4. Return a table of made name, salary rows, ie. a list of list  [[name, salary]]\n",
    "\n",
    "5. Compute the average salary"
   ]
  }
 ],
 "metadata": {
  "kernelspec": {
   "display_name": "Python 3",
   "language": "python",
   "name": "python3"
  },
  "language_info": {
   "codemirror_mode": {
    "name": "ipython",
    "version": 3
   },
   "file_extension": ".py",
   "mimetype": "text/x-python",
   "name": "python",
   "nbconvert_exporter": "python",
   "pygments_lexer": "ipython3",
   "version": "3.5.1"
  }
 },
 "nbformat": 4,
 "nbformat_minor": 0
}

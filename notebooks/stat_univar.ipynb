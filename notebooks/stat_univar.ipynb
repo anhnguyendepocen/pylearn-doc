{
 "cells": [
  {
   "cell_type": "markdown",
   "metadata": {},
   "source": [
    "## Estimator of main statistical moments\n",
    " \n",
    "#### Mean\n",
    "\n",
    "The expected value operator $\\operatorname{E}[.]$ of a RV $X$\n",
    "\n",
    "\\begin{align}\n",
    "\\operatorname{E}[X + c] &= \\operatorname{E}[X] + c \\\\ \n",
    "\\operatorname{E}[X + Y] &= \\operatorname{E}[X] + \\operatorname{E}[Y] \\\\ \n",
    "\\operatorname{E}[aX] &= a \\operatorname{E}[X] \n",
    "\\end{align}\n",
    "\n",
    "The estimator\n",
    "$$\n",
    "\\bar{x} = \\frac{1}{n} \\sum_i x_i\n",
    "$$\n",
    "is itself a RV with properties:\n",
    "- $E[\\bar{x}] = \\bar{x}$\n",
    "- $Var[\\bar{x}] = Var[X]/n$.\n",
    "\n",
    "#### Variance\n",
    "\n",
    "\\begin{align}\n",
    "\\operatorname{Var}[X] &= \\operatorname{E}[(X + -\\operatorname{E}[X])^2] &=  \\operatorname{E}[X^2] + (\\operatorname{E}[X])^2\n",
    "\\end{align}\n",
    "\n",
    "The estimator is $s^2 = \\frac{1}{n-1} \\sum_i (x_i - \\bar{x})^2$\n",
    "\n",
    "\n",
    "#### Covariance\n",
    "\\begin{align}\n",
    "\\operatorname{Cov}[X, Y] &= \\operatorname{E}[(X -\\operatorname{E}[X])(Y -\\operatorname{E}[Y])] &=  \\operatorname{E}[XY] + \\operatorname{E}[X](\\operatorname{E}[X]\n",
    "\\end{align}\n",
    "\n",
    "#### Standard Error (SE) \n",
    "The SE of the estimator (standard deviation of the sampling distribution of a statistic is \n",
    "$$\n",
    "\\operatorname{SE}[X] = \\operatorname{Std}[X]\\sqrt(n)).\n",
    "$$\n",
    "\n",
    "For the mean we get\n",
    "\n",
    "$SE[\\bar{x}] = Std[X]/\\sqrt{n}$"
   ]
  },
  {
   "cell_type": "markdown",
   "metadata": {},
   "source": [
    "# Main distributions\n",
    "\n",
    "## Normal distribution\n",
    "\n",
    "The normal or $N$ distribution is useful because of the central limit theorem (CLT) which states that, given certain conditions, the arithmetic mean of a sufficiently large number of iterates of independent random variables, each with a well-defined expected value and well-defined variance, will be approximately normally distributed, regardless of the underlying distribution.\n",
    "Parameters: $\\mu$ mean (location) and $\\sigma^2>0$ variance. Estimators:"
   ]
  },
  {
   "cell_type": "markdown",
   "metadata": {},
   "source": [
    "## The Chi-Square distribution\n",
    "\n",
    "The chi-square or $\\chi_n^2$ distribution with $n$ degrees of freedom (df) is the distribution of a sum of the squares of $n$ independent standard normal random variables $N(0, 1)$. Let $X \\sim N(\\mu, \\sigma^2)$ and $Z=(X - mu)/\\sigma \\sim N(0, 1)$, then:\n",
    "\n",
    "- The squared standard $Z^2 \\sim \\chi_1^2$ (one df).\n",
    "\n",
    "- **The distribution of sum of squares** the sum of square of $n$ normal RV: $\\sum_i^n Z_i^2 \\sim \\chi_n^2$\n",
    "\n",
    "The sum of two $\\chi^2$ RV with $p$ and $q$ df is a $\\chi^2$ RV with $p+q$ df. This is useful when summing/subtracting sum of squares."
   ]
  },
  {
   "cell_type": "markdown",
   "metadata": {},
   "source": [
    "## The Fisher's F-distribution\n",
    "\n",
    "The F-distribution $F_{n, p}$ with $n$ and $p$ df is the ratio of two independant $\\chi^2$ variables. Let $X \\sim \\chi_n^2$ and $Y \\sim \\chi_p^2$ then: \n",
    "$$\n",
    "F_{n, p} = \\frac{X/n}{Y/p}\n",
    "$$\n",
    "\n",
    "F-distribution plays a central role in hypothesis testing answering the question: **Are two variances equals?**"
   ]
  },
  {
   "cell_type": "code",
   "execution_count": 1,
   "metadata": {
    "collapsed": false
   },
   "outputs": [
    {
     "data": {
      "image/png": "[encoded data removed]",
      "text/plain": [
       "<matplotlib.figure.Figure at 0x7f2e7cfb4080>"
      ]
     },
     "metadata": {},
     "output_type": "display_data"
    }
   ],
   "source": [
    "import numpy as np\n",
    "from scipy.stats import f\n",
    "import matplotlib.pyplot as plt\n",
    "%matplotlib inline\n",
    "\n",
    "fvalues = np.linspace(.1, 5, 100)\n",
    "\n",
    "# pdf(x, df1, df2): Probability density function at x of F.\n",
    "plt.plot(fvalues, f.pdf(fvalues, 1, 30), 'b-', label=\"F(1, 30)\")\n",
    "plt.plot(fvalues, f.pdf(fvalues, 5, 30), 'r-', label=\"F(5, 30)\")\n",
    "plt.legend()\n",
    "\n",
    "# cdf(x, df1, df2): Cumulative distribution function of F.\n",
    "# ie. \n",
    "proba_at_f_inf_3 = f.cdf(3, 1, 30) # P(F(1,30) < 3)\n",
    "\n",
    "# ppf(q, df1, df2): Percent point function (inverse of cdf) at q of F.\n",
    "f_at_proba_inf_95 = f.ppf(.95, 1, 30) # q such P(F(1,30) < .95)\n",
    "assert f.cdf(f_at_proba_inf_95, 1, 30) == .95\n",
    "\n",
    "# sf(x, df1, df2): Survival function (1 - cdf) at x of F.\n",
    "proba_at_f_sup_3 = f.sf(3, 1, 30) # P(F(1,30) > 3)\n",
    "assert  proba_at_f_inf_3 + proba_at_f_sup_3 == 1\n",
    "\n",
    "# p-value: P(F(1, 30)) < 0.05\n",
    "low_proba_fvalues = fvalues[fvalues > f_at_proba_inf_95]\n",
    "plt.fill_between(low_proba_fvalues, 0, f.pdf(low_proba_fvalues, 1, 30), alpha=.8, label=\"P < 0.05\")\n",
    "plt.show()"
   ]
  },
  {
   "cell_type": "markdown",
   "metadata": {},
   "source": [
    "## The  Student's t-distribution\n",
    "\n",
    "Let normal RV $M \\sim N(0, 1)$ and a $V \\sim \\chi_n^2$. The t-distribution $T_n$ with $n$ df is the ratio:\n",
    "$$\n",
    "T_n = \\frac{M}{\\sqrt{V/n}}\n",
    "$$\n",
    "\n",
    "The distribution of the difference between an estimated parmeter with its true value divided by the standard deviation of the estimated parameter (standard error) follow a t-distribution. **Is this parameters different from a given value ?**"
   ]
  },
  {
   "cell_type": "markdown",
   "metadata": {},
   "source": [
    "# Univariate statistics and hypothesis testing"
   ]
  },
  {
   "cell_type": "markdown",
   "metadata": {},
   "source": [
    "## Principles\n",
    "\n",
    "What statistical test should I use? http://www.ats.ucla.edu/stat/mult_pkg/whatstat/\n",
    "\n",
    "\n",
    "Mass univariate statistical analysis: explore association betweens pairs of variable. \n",
    "\n",
    "- In statistics, a **categorical variable** or a **factor** is a variable that can take on one of a limited, and usually fixed, number of possible values, thus assigning each individual to a particular group or \"category. The levels are the possibles values of the variable. Number of level = 2, binomial, Number of level > 2: multinomial. There is no intrinsic ordering to the categories.  For example, gender is a categorical variable having two categories (male and female) and there is no intrinsic ordering to the categories.  Hair color is also a categorical variable having a number of categories (blonde, brown, brunette, red, etc.) and again, there is no agreed way to order these from highest to lowest.  A purely categorical variable is one that simply allows you to assign categories but you cannot clearly order the variables.  If the variable has a clear ordering, then that variable would be an ordinal variable, as described below.\n",
    "\n",
    "- An **Ordinal variable** is similar to a categorical variable.  The difference between the two is that there is a clear ordering of the variables.  For example, suppose you have a variable, economic status, with three categories (low, medium and high).  In addition to being able to classify people into these three categories, you can order the categories as low, medium and high.\n",
    "\n",
    "- A **continuous** or **quantitative variable** $x \\in R$ is one that can take any value in a range of possible values possibly infinite.  Eg.: Salary, Experience in years.\n",
    "\n",
    "- **An independent variable (IV)** is exactly what it sounds like. It is a variable that stands alone and isn't changed by the other variables you are trying to measure. For example, someone's age might be an independent variable. Other factors (such as what they eat, how much they go to school, how much television they watch) aren't going to change a person's age. In fact, when you are looking for some kind of relationship between variables you are trying to see if the independent variable causes some kind of change in the other variables, or dependent variables.\n",
    "\n",
    "- A **dependent variable** is exactly what it sounds like. It is something that depends on other factors. For example, a test score could be a dependent variable because it could change depending on several factors such as how much you studied, how much sleep you got the night before you took the test, or even how hungry you were when you took it. Usually when you are looking for a relationship between two things you are trying to find out what makes the dependent variable change the way it does."
   ]
  },
  {
   "cell_type": "markdown",
   "metadata": {},
   "source": [
    "##  One sample t-test (no IV)\n",
    "\n",
    "The one-sample t-test is used to determine whether a sample comes from a population with a specific mean. For example you want to test if the average height of a population is 1.75m.\n",
    "\n",
    "### 1. Build a model assume that height is normally distributed: $X \\sim N(\\mu, \\sigma)$.\n",
    "\n",
    "### 2. Estimate the model parameters \n",
    "$\\bar{x}, s$ are the estimators of $\\mu, \\sigma$\n",
    "\n",
    "### 3. Test\n",
    "In testing the null hypothesis that the population mean is equal to a specified value $\\mu_0=1.75$, one uses the statistic:\n",
    "$$\n",
    "    t = \\frac{\\bar{x} - \\mu_0}{s/\\sqrt{n}} \n",
    "$$\n",
    "Although the parent population does not need to be normally distributed, the distribution of the population of sample means, $\\overline{x}$, is assumed to be normal. By the central limit theorem, if the sampling of the parent population is independent then the sample means will be approximately normal.\n",
    "\n",
    "### Exercise\n",
    "\n",
    "- Given the following samples, test whether its true mean is 1.75.\n",
    "Warning, when computing the std or the variance set ddof=1. The default\n",
    "value 0, leads to the biased estimator of the variance.\n"
   ]
  },
  {
   "cell_type": "code",
   "execution_count": 2,
   "metadata": {
    "collapsed": true
   },
   "outputs": [],
   "source": [
    "import numpy as np\n",
    "import scipy.stats as stats\n",
    "import matplotlib.pyplot as plt\n",
    "np.random.seed(seed=42)  # make example reproducible\n",
    "n = 100\n",
    "x = np.random.normal(loc=1.78, scale=.1, size=n)"
   ]
  },
  {
   "cell_type": "markdown",
   "metadata": {},
   "source": [
    "- Compute the t-value (tval)\n",
    "\n",
    "- Plot the T(n-1) distribution for 100 tvalues values within [0, 10]. Draw P(T(n-1)>tval) \n",
    "  ie. color the surface defined by x values larger than tval below the T(n-1).\n",
    "  Using the code."
   ]
  },
  {
   "cell_type": "code",
   "execution_count": 3,
   "metadata": {
    "collapsed": false
   },
   "outputs": [
    {
     "data": {
      "text/plain": [
       "<matplotlib.legend.Legend at 0x7f2e51fe27f0>"
      ]
     },
     "execution_count": 3,
     "metadata": {},
     "output_type": "execute_result"
    },
    {
     "data": {
      "image/png": "[encoded data removed]",
      "text/plain": [
       "<matplotlib.figure.Figure at 0x7f2e51fde470>"
      ]
     },
     "metadata": {},
     "output_type": "display_data"
    }
   ],
   "source": [
    "tval = 2.1598800019529265 # assume the t-value\n",
    "tvalues = np.linspace(-10, 10, 100)\n",
    "plt.plot(tvalues, stats.t.pdf(tvalues, n-1), 'b-', label=\"T(n-1)\")\n",
    "upper_tval_tvalues = tvalues[tvalues > tval]\n",
    "plt.fill_between(upper_tval_tvalues, 0, stats.t.pdf(upper_tval_tvalues, n-1), alpha=.8, label=\"p-value\")\n",
    "plt.legend()"
   ]
  },
  {
   "cell_type": "markdown",
   "metadata": {},
   "source": [
    "- Compute the p-value: P(T(n-1)>tval).\n",
    "\n",
    "- The p-value is one-sided: a two-sided test would test P(T(n-1) > tval) and P(T(n-1) < -tval). What would be the two sided p-value ?\n",
    "  \n",
    "- Compare the two-sided p-value with the one obtained by stats.ttest_1samp\n",
    "using assert np.allclose(arr1, arr2)"
   ]
  },
  {
   "cell_type": "markdown",
   "metadata": {
    "collapsed": true
   },
   "source": [
    "###  Two sample t-test  (IV categorial with nb level = 2)\n",
    "\n",
    "http://www.itl.nist.gov/div898/handbook/eda/section3/eda353.htm\n",
    "\n",
    "###  Anova F-test  (IV categorial with nb level > 2)\n"
   ]
  },
  {
   "cell_type": "markdown",
   "metadata": {},
   "source": [
    "## Simple linear regression (one continuous independant variable (IV))\n",
    "\n",
    "Using the dataset \"salary\", explore the association between the dependant variable (eg. Salary) and the independant (eg.: Experience is quantitative)"
   ]
  },
  {
   "cell_type": "code",
   "execution_count": 8,
   "metadata": {
    "collapsed": false
   },
   "outputs": [],
   "source": [
    "import pandas as pd\n",
    "import matplotlib.pyplot as plt\n",
    "%matplotlib inline\n",
    "\n",
    "url = 'ftp://ftp.cea.fr/pub/unati/people/educhesnay/pylearn_doc/data/salary_table.csv'\n",
    "salary = pd.read_csv(url)\n",
    "salary.E = salary.E.map({1:'Bachelor', 2:'Master', 3:'Ph.D'})\n",
    "salary.M = salary.M.map({0:'N', 1:'Y'})\n",
    "\n",
    "## Outcome\n",
    "## S: salaries for IT staff in a corporation.\n",
    "\n",
    "## Predictors:\n",
    "## X: experience (years)\n",
    "## E: education (1=Bachelor's, 2=Master's, 3=Ph.D)\n",
    "## M: management (1=management, 0=not management)"
   ]
  },
  {
   "cell_type": "markdown",
   "metadata": {},
   "source": [
    "### 1. Model the data on some **hypothesis** eg.: Salary is a linear function of the Experience.\n",
    "\n",
    "$$\n",
    "\\text{salary}_i = \\beta~\\text{experience}_i + \\beta_0 + \\epsilon_i\n",
    "$$\n",
    "More generally:\n",
    "$$\n",
    "y_i = \\beta~x_i + \\beta_0 + \\epsilon_i\n",
    "$$\n",
    "\n",
    "- $\\beta$: the slope or coeficient or parameter of the model\n",
    "\n",
    "- $\\beta_0$: the **intercept** or bias is the second parameter of the model\n",
    "\n",
    "- $\\epsilon_i$: is the ith error, or residual with $\\epsilon \\sim N(0, \\sigma^2)$\n",
    "\n",
    "\n",
    "### 2. **Fit** the model to your data. Estimate $\\beta$, $\\beta_0$ and $\\sigma^2$\n",
    "\n",
    "Minimizes the **mean squared error (MSE)**, or **Ordinary Least Squares (OLS)** Find $\\beta, \\beta_0$ that minimizes $F = \\sum_i \\epsilon_i^2$\n",
    "$$\n",
    "\\sum_i(y_i - \\beta~x_i - \\beta_0)^2\n",
    "$$\n",
    "\n",
    "$$\n",
    "\\frac{\\partial F}{\\beta_0} = \\sum_i(y_i - \\beta~x_i - \\beta_0) = 0\\\\\n",
    "\\sum_i y_i = \\beta~\\sum_i x_i + n~\\beta_0\\\\\n",
    "n~\\bar{y} = n~\\beta~\\bar{x} + n~\\beta_0\\\\\n",
    "\\beta_0 = \\bar{y} - \\beta~\\bar{x}\\\\\n",
    "$$\n",
    "$$\n",
    "\\frac{\\partial F}{\\beta} = \\sum_i x_i(y_i - \\beta~x_i - \\beta_0) = 0\n",
    "$$\n",
    "\n",
    "Plug $\\beta_0$\n",
    "\n",
    "$$\n",
    "\\sum_i x_i(y_i - \\beta~x_i - \\bar{y} + \\beta \\bar{x}) = 0\\\\\n",
    "\\sum_i x_i y_i - \\bar{y}\\sum_i x_i = \\beta \\sum_i(x_i - \\bar{x})\n",
    "$$\n",
    "\n",
    "Divide by $n$ both sides\n",
    "\n",
    "$$\n",
    "1/n \\sum_i x_i y_i  - \\bar{y}\\bar{x} = 1 / n~\\beta  \\sum_i(x_i - \\bar{x})\\\\\n",
    "\\beta = \\frac{Cov(x, y)}{Var(x)}\n",
    "$$"
   ]
  },
  {
   "cell_type": "code",
   "execution_count": 9,
   "metadata": {
    "collapsed": false
   },
   "outputs": [
    {
     "name": "stdout",
     "output_type": "stream",
     "text": [
      "y=491.486913 x + 13584.043803,  r:0.538886, r-squared:0.290398, \n",
      "p-value:0.000112, std_err:115.823381\n"
     ]
    },
    {
     "data": {
      "image/png": "[encoded data removed]",
      "text/plain": [
       "<matplotlib.figure.Figure at 0x7f2e4b8927f0>"
      ]
     },
     "metadata": {},
     "output_type": "display_data"
    }
   ],
   "source": [
    "from scipy import stats\n",
    "import numpy as np\n",
    "y, x = salary.S, salary.X\n",
    "beta, beta0, r_value, p_value, std_err = stats.linregress(x,y)\n",
    "print(\"y=%f x + %f,  r:%f, r-squared:%f, \\np-value:%f, std_err:%f\" \n",
    "      % (beta, beta0, r_value, r_value**2, p_value, std_err))\n",
    "# plotting the line\n",
    "yhat = beta * x  +  beta0 # regression line\n",
    "plt.plot(x, yhat, 'r-', x, y,'o')\n",
    "plt.xlabel('Experience (years)')\n",
    "plt.ylabel('Salary')\n",
    "plt.show()"
   ]
  },
  {
   "cell_type": "markdown",
   "metadata": {},
   "source": [
    "### 3. **Test** your model."
   ]
  },
  {
   "cell_type": "markdown",
   "metadata": {},
   "source": [
    "#### 3.1 Goodness of fit\n",
    "\n",
    "The goodness of fit of a statistical model describes how well it fits a set of observations. Measures of goodness of fit typically summarize the discrepancy between observed values and the values expected under the model in question. We will consider the **explained variance**  also known as the coefficient of determination, denoted $R^2$ pronounced **R-squared**.\n",
    "\n",
    "The SS total ($SS_\\text{tot}$) = SS explained by the regression ($SS_\\text{reg}$) + SS of residuals unexplained by the regression ($SS_\\text{res}$):\n",
    "\n",
    "$$ SS_\\text{tot} = SS_\\text{reg} + SS_\\text{res}$$\n",
    "![title](images/Coefficient_of_Determination.png)\n",
    "\n",
    "$$\\bar{y} = \\frac{1}{n}\\sum_i y_i $$\n",
    "\n",
    "Errors obtained with intercept only: the total sum of squares:\n",
    "\n",
    "$$ SS_\\text{tot}=\\sum_i (y_i-\\bar{y})^2$$\n",
    "\n",
    "\n",
    "The regression sum of squares, also called the explained sum of squares. \n",
    "\n",
    "$$SS_\\text{reg}=\\sum_i (\\hat{y_i} -\\bar{y})^2$$\n",
    "Where $\\hat{y_i} = \\beta x_i + \\beta_0$ is the estimated value of salary $\\hat{y_i}$ given a value of experience $x_i$.\n",
    "\n",
    "The sum of squares of residuals, also called the residual sum of squares (RSS):\n",
    "\n",
    "$$SS_\\text{res}=\\sum_i (y_i - \\hat{y_i})^2$$ also called \n",
    "\n",
    "$R^2$ is the explained SS of errors $\\equiv$ the variance explain by the regression / total variance\n",
    "\n",
    "$$\n",
    "R^2 = \\frac{\\text{Explained SS}}{\\text{Total SS}}\n",
    "    = \\frac{SS_\\text{reg}}{SS_{tot}} \n",
    "    = 1 - {SS_{res}\\over SS_{tot}}.\n",
    "$$\n",
    "\n",
    "###  3.2 Test\n",
    "\n",
    "Let $\\hat{\\sigma}^2 = SS_\\text{res} / (n-2)$ an estimator of the variance of $\\epsilon$. $2$ stem from the number of estimated parameters.\n",
    "\n",
    "- **Unexplained variance**: $SS_\\text{res}/\\hat{\\sigma}^2 \\sim \\chi_{n-2}^2$\n",
    "\n",
    "- **Explained variance**: $SS_\\text{reg}/\\hat{\\sigma}^2 \\sim \\chi_{1}^2$ since it is the difference of $SS_\\text{tot}/\\hat{\\sigma}^2 (\\sim \\chi_{n-1})^2$ with $SS_\\text{res}/\\hat{\\sigma}^2 (\\sim \\chi_{n-2}^2)$ ie. $(n-1) - (n-2)$ df.\n",
    "\n",
    "The Fisher statistics of the ratio of two variances:\n",
    "$$\n",
    "F = \\frac{\\text{Explained variance}}{\\text{Unexplained variance}} = \\frac{SS_\\text{reg} / 1}{ SS_\\text{res} / (n - 2)} \\sim F(1, n-2)\n",
    "$$\n",
    "\n",
    "Using the F-distribution, compute the probability of observing a value greater than F under H0 i.e.: $P(x > F|H_0)$ ie. the survival function (1 - Cumulative Distribution Function) at x of the given F-distribution.\n",
    "\n",
    "\n",
    "### Exercise\n",
    "\n",
    "Compute:\n",
    "\n",
    "- $\\bar{y}$: `y_mu`\n",
    "\n",
    "- $SS_\\text{tot}$: `ss_tot`\n",
    "\n",
    "- $SS_\\text{reg}$: `ss_reg`\n",
    "\n",
    "- $SS_\\text{res}$: `ss_res`\n",
    "\n",
    "- Check partition of variance formula based on SS using `assert np.allclose(val1, val2, atol=1e-05)`\n",
    "\n",
    "- What np.allclose does?\n",
    "\n",
    "- What assert does?\n",
    "\n",
    "- What is it worth for\n",
    "\n",
    "- Compute $R^2$ and compare with `r_value` above\n",
    "\n",
    "- Compute F score\n",
    "\n",
    "- Compute the p-value:\n",
    " *  Plot the $F(1, n)$ distribution for 100 f values within [10, 25]. Draw $P(F(1, n) > F)$ ie. color the surface defined by x values larger than F below the $F(1, n)$.\n",
    "\n",
    " * $P(F(1, n) > F)$ is the p-value, compute it."
   ]
  },
  {
   "cell_type": "markdown",
   "metadata": {},
   "source": []
  },
  {
   "cell_type": "markdown",
   "metadata": {},
   "source": [
    "## Introduction to statmodels: one or more independant variables"
   ]
  }
 ],
 "metadata": {
  "kernelspec": {
   "display_name": "Python 3",
   "language": "python",
   "name": "python3"
  },
  "language_info": {
   "codemirror_mode": {
    "name": "ipython",
    "version": 3
   },
   "file_extension": ".py",
   "mimetype": "text/x-python",
   "name": "python",
   "nbconvert_exporter": "python",
   "pygments_lexer": "ipython3",
   "version": "3.5.1"
  }
 },
 "nbformat": 4,
 "nbformat_minor": 0
}
